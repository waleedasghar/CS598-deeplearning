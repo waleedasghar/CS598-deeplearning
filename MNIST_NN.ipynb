{
 "cells": [
  {
   "cell_type": "code",
   "execution_count": 15,
   "metadata": {
    "colab": {},
    "colab_type": "code",
    "id": "cXJJ19jbh0ub"
   },
   "outputs": [
    {
     "name": "stderr",
     "output_type": "stream",
     "text": [
      "'unrar' is not recognized as an internal or external command,\n",
      "operable program or batch file.\n"
     ]
    }
   ],
   "source": [
    "! unrar x \"./test.rar\""
   ]
  },
  {
   "cell_type": "code",
   "execution_count": 2,
   "metadata": {
    "colab": {},
    "colab_type": "code",
    "id": "vzlMTjp2jDYa"
   },
   "outputs": [
    {
     "name": "stderr",
     "output_type": "stream",
     "text": [
      "'unrar' is not recognized as an internal or external command,\n",
      "operable program or batch file.\n"
     ]
    }
   ],
   "source": [
    "! unrar x \"./train.rar\""
   ]
  },
  {
   "cell_type": "code",
   "execution_count": 16,
   "metadata": {
    "colab": {},
    "colab_type": "code",
    "id": "R4Z7SgjyfVc1"
   },
   "outputs": [],
   "source": [
    "import matplotlib.pyplot as plt\n",
    "import numpy as np\n",
    "from sklearn.utils import shuffle\n",
    "import cv2\n",
    "import glob\n",
    "from matplotlib import rcParams\n",
    "import scipy.io\n",
    "from tqdm import tqdm\n",
    "%matplotlib inline\n",
    "rcParams['figure.figsize'] = 6,6"
   ]
  },
  {
   "cell_type": "markdown",
   "metadata": {
    "colab_type": "text",
    "id": "rNhly0ByfVdP"
   },
   "source": [
    "### Loading the Dataset"
   ]
  },
  {
   "cell_type": "code",
   "execution_count": 17,
   "metadata": {
    "colab": {},
    "colab_type": "code",
    "id": "LQX6DiAxfVdR"
   },
   "outputs": [],
   "source": [
    "def loadDataset(path):\n",
    "    print('Loading Dataset...')\n",
    "    train_x, train_y, test_x, test_y = [], [], [], []\n",
    "    for i in range(10):         \n",
    "        for filename in glob.glob(path + '/train/' + str(i)+'/*.png'):\n",
    "            im=cv2.imread(filename, cv2.IMREAD_GRAYSCALE)             \n",
    "            train_x.append(im)             \n",
    "            train_y.append(i)     \n",
    "    for i in range(10):         \n",
    "        for filename in glob.glob(path + '/test/' + str(i)+'/*.png'):\n",
    "            im=cv2.imread(filename, cv2.IMREAD_GRAYSCALE)             \n",
    "            test_x.append(im)\n",
    "            test_y.append(i)    \n",
    "    print('Dataset loaded...')  \n",
    "    return np.array(train_x), np.array(train_y), np.array(test_x),np.array(test_y) "
   ]
  },
  {
   "cell_type": "markdown",
   "metadata": {
    "colab_type": "text",
    "id": "1Z2VOq4zfVdb"
   },
   "source": [
    "### Methods for Data Pre-Processing"
   ]
  },
  {
   "cell_type": "code",
   "execution_count": 18,
   "metadata": {
    "colab": {},
    "colab_type": "code",
    "id": "ekFwpUbKfVdf"
   },
   "outputs": [],
   "source": [
    "def TrainTest_Split(trainX, trainY):\n",
    "    trainX, trainY = shuffle(trainX, trainY)\n",
    "    # splitting data into train and validation\n",
    "    train_idx = int(0.90 * trainX.shape[0])\n",
    "    val_idx = int(0.10 * trainX.shape[0])\n",
    "    trainX, validX = trainX[:train_idx], trainX[train_idx:train_idx + val_idx]\n",
    "    trainY, validY = trainY[:train_idx], trainY[train_idx:train_idx + val_idx]\n",
    "    return trainX, validX, trainY, validY\n",
    "\n",
    "def One_Hot_Encode(label):\n",
    "    classes = np.arange(10)\n",
    "    one_hot = (classes == label).astype(np.int)\n",
    "    return one_hot\n",
    "\n",
    "def LoadFilters(path):\n",
    "    data = scipy.io.loadmat(path)\n",
    "    filters = data['filters'] \n",
    "    filters = np.array(filters)\n",
    "    return filters\n",
    "\n",
    "def Flatten(data):\n",
    "    # reshaping data\n",
    "    data = data.flatten().reshape(data.shape[0], data.shape[1]*data.shape[2]*data.shape[3])\n",
    "    # taking mean of data\n",
    "    mean = np.mean(data)\n",
    "    # mean subtraction and normalization of data\n",
    "    data -= int(mean)\n",
    "    data = data/255\n",
    "    return data"
   ]
  },
  {
   "cell_type": "markdown",
   "metadata": {
    "colab_type": "text",
    "id": "TXbMPxdEfVdp"
   },
   "source": [
    "#### Getting Data"
   ]
  },
  {
   "cell_type": "code",
   "execution_count": 19,
   "metadata": {
    "colab": {
     "base_uri": "https://localhost:8080/",
     "height": 68
    },
    "colab_type": "code",
    "id": "OFqINuVSfVdq",
    "outputId": "1da923a8-a9a6-443e-abe7-63074360e132"
   },
   "outputs": [
    {
     "name": "stdout",
     "output_type": "stream",
     "text": [
      "Loading Dataset...\n",
      "Dataset loaded...\n"
     ]
    },
    {
     "data": {
      "text/plain": [
       "((60000, 28, 28), (10000, 28, 28))"
      ]
     },
     "execution_count": 19,
     "metadata": {},
     "output_type": "execute_result"
    }
   ],
   "source": [
    "trainX,  trainY, testX, testY = loadDataset('./')\n",
    "trainX.shape, testX.shape"
   ]
  },
  {
   "cell_type": "markdown",
   "metadata": {
    "colab_type": "text",
    "id": "yp2Mvdd-fVd5"
   },
   "source": [
    "#### Splitting data into train and validation"
   ]
  },
  {
   "cell_type": "code",
   "execution_count": 20,
   "metadata": {
    "colab": {
     "base_uri": "https://localhost:8080/",
     "height": 34
    },
    "colab_type": "code",
    "id": "KPN7WjnWfVd6",
    "outputId": "e2a692bb-2070-414f-9048-76a072530110"
   },
   "outputs": [
    {
     "data": {
      "text/plain": [
       "((54000, 28, 28), (6000, 28, 28))"
      ]
     },
     "execution_count": 20,
     "metadata": {},
     "output_type": "execute_result"
    }
   ],
   "source": [
    "trainX, validX, trainY, validY = TrainTest_Split(trainX, trainY)\n",
    "trainX.shape, validX.shape"
   ]
  },
  {
   "cell_type": "markdown",
   "metadata": {
    "colab_type": "text",
    "id": "F3KRgYjGfVeD"
   },
   "source": [
    "#### One Hot Encoding of the labels"
   ]
  },
  {
   "cell_type": "code",
   "execution_count": 21,
   "metadata": {
    "colab": {
     "base_uri": "https://localhost:8080/",
     "height": 34
    },
    "colab_type": "code",
    "id": "I1q0QUolfVeE",
    "outputId": "4154d34c-9537-4e7e-bbd7-4eaa2ea7052f"
   },
   "outputs": [
    {
     "data": {
      "text/plain": [
       "((54000, 10), (10000, 10), (6000, 10))"
      ]
     },
     "execution_count": 21,
     "metadata": {},
     "output_type": "execute_result"
    }
   ],
   "source": [
    "trainY = np.expand_dims(trainY, axis=1)\n",
    "testY = np.expand_dims(testY, axis=1)\n",
    "validY = np.expand_dims(validY, axis=1)\n",
    "trainY = One_Hot_Encode(trainY)\n",
    "testY = One_Hot_Encode(testY)\n",
    "validY = One_Hot_Encode(validY)\n",
    "trainY.shape, testY.shape, validY.shape"
   ]
  },
  {
   "cell_type": "markdown",
   "metadata": {
    "colab_type": "text",
    "id": "rKOK4fzLfVeM"
   },
   "source": [
    "#### Loading the filters "
   ]
  },
  {
   "cell_type": "code",
   "execution_count": 22,
   "metadata": {
    "colab": {
     "base_uri": "https://localhost:8080/",
     "height": 34
    },
    "colab_type": "code",
    "id": "eiJYmNemfVeQ",
    "outputId": "9d2020a4-3bbe-4ef7-e411-a391b36740e0"
   },
   "outputs": [
    {
     "data": {
      "text/plain": [
       "(17, 17, 36)"
      ]
     },
     "execution_count": 22,
     "metadata": {},
     "output_type": "execute_result"
    }
   ],
   "source": [
    "# Pre-Trained convolution filters \n",
    "filters = LoadFilters('filters.mat')\n",
    "filters.shape"
   ]
  },
  {
   "cell_type": "code",
   "execution_count": 23,
   "metadata": {
    "colab": {
     "base_uri": "https://localhost:8080/",
     "height": 699
    },
    "colab_type": "code",
    "id": "5qN7B1K-lawK",
    "outputId": "245a3545-bd47-47e5-b3fe-298a46429e91"
   },
   "outputs": [
    {
     "data": {
      "image/png": "[encoded data removed]",
      "text/plain": [
       "<Figure size 864x864 with 36 Axes>"
      ]
     },
     "metadata": {
      "needs_background": "light"
     },
     "output_type": "display_data"
    }
   ],
   "source": [
    "# Plotting filters before pooling\n",
    "col=6\n",
    "row=6\n",
    "fig=plt.figure(figsize=(12, 12))\n",
    "for i in range(1, col*row +1):\n",
    "    img = filters[:,:, i-1]\n",
    "    fig.add_subplot(row, col, i)\n",
    "    plt.title('Filters '+str(i))\n",
    "    plt.axis('off')\n",
    "    plt.imshow(img)\n",
    "plt.show()"
   ]
  },
  {
   "cell_type": "markdown",
   "metadata": {
    "colab_type": "text",
    "id": "A8nriQp_fVec"
   },
   "source": [
    "### Convolution Neural Network class with functions padding, single step conv, conv forward and pooling forward"
   ]
  },
  {
   "cell_type": "code",
   "execution_count": 24,
   "metadata": {
    "colab": {},
    "colab_type": "code",
    "id": "nIx5jUiOfVed"
   },
   "outputs": [],
   "source": [
    "class Conv_Neural_Net(object):\n",
    "    \n",
    "    # Function to Convolve a patch of image with kernel\n",
    "    def Single_Step_Conv(self, patch, kernel):\n",
    "        output = np.sum(np.multiply(patch, kernel))\n",
    "        return output\n",
    "    \n",
    "    # Function to pad the images\n",
    "    def padding(self, img, pad):\n",
    "        img_pad = np.pad(img, (pad,pad), 'constant', constant_values = (0,0))\n",
    "        return img_pad\n",
    "    \n",
    "    # Activation Functions\n",
    "    def relu(self, x):\n",
    "        return np.where(x > 0, x, 0)\n",
    "    \n",
    "    # Activation Layer for non-linearity\n",
    "    def Activation(self, maps, activ='relu'):\n",
    "        if activ == 'relu':\n",
    "            A = self.relu(maps)  \n",
    "        return A\n",
    "    \n",
    "    # Layer. Convolution Forward function. Returns feature maps for all samples\n",
    "    def Conv_forward(self, img, filters, stride=1, pad=0):\n",
    "        k_row, k_col, no_of_filter = filters.shape    \n",
    "        samples, nh, nw = img.shape\n",
    "        nh = int(np.floor((nh - k_row + (2 * pad))/stride) + 1)\n",
    "        nw = int(np.floor((nw - k_col + (2 * pad))/stride) + 1)\n",
    "        outputs = np.zeros((samples, nh, nw, no_of_filter))\n",
    "        img = self.padding(img, pad)\n",
    "        print('Convolving samples')\n",
    "        for sample in tqdm(range(samples)):\n",
    "            for f in range(no_of_filter): \n",
    "                for x in range(0, nh):\n",
    "                    for y in range(0, nw):\n",
    "                        outputs[sample, x, y, f] = self.Single_Step_Conv(img[sample, x * stride:(x * stride) + k_row, y * stride:(y * stride) + k_col], filters[:, :, f])\n",
    "        return outputs\n",
    "    \n",
    "    # Layer. Pooling forward function. Returns the Pooled features for all samples\n",
    "    def Pool_forward(self, feature_map, mode = 'Max', filter_size=2, stride=2):\n",
    "        window = np.zeros((filter_size, filter_size))\n",
    "        k_row, k_col = window.shape\n",
    "        samples, nh, nw, nc = feature_map.shape\n",
    "        nh = int(np.floor((nh - filter_size)/stride) + 1)\n",
    "        nw = int(np.floor((nw - filter_size)/stride) + 1)\n",
    "        outputs = np.zeros((samples, nh, nw, nc))\n",
    "        print(str(mode)+' pooling samples')\n",
    "        for sample in tqdm(range(samples)):\n",
    "            for f in range(nc):\n",
    "                for x in range(0, nh):\n",
    "                    for y in range(0, nw):\n",
    "                        if mode == 'Max': outputs[sample, x, y, f] = np.max(feature_map[sample, x * stride:(x * stride) + k_row, y * stride:(y * stride) + k_col, f])\n",
    "        return outputs"
   ]
  },
  {
   "cell_type": "markdown",
   "metadata": {
    "colab_type": "text",
    "id": "ggeeZWaqfVeo"
   },
   "source": [
    "### Neural Network class"
   ]
  },
  {
   "cell_type": "code",
   "execution_count": 25,
   "metadata": {
    "colab": {},
    "colab_type": "code",
    "id": "M2jUaoJqfVep"
   },
   "outputs": [],
   "source": [
    "class Neural_Network(object):        \n",
    "    def __init__(self, no_hidden_layers, layer_sizes):        \n",
    "        # Parameter initilization\n",
    "        if no_hidden_layers != len(layer_sizes)-2:\n",
    "            print('There was a problem with initializing the Network. Check the parameters passed.')   \n",
    "        else:\n",
    "            self.model = {}\n",
    "            self.no_hidden_layers = no_hidden_layers\n",
    "            for l in range(no_hidden_layers + 1):\n",
    "                self.model['w' + str(l+1)] = np.random.randn(layer_sizes[l], layer_sizes[l+1])\n",
    "                self.model['b' + str(l+1)] = np.ones((1, layer_sizes[l+1]))\n",
    "            print('Shape of Arhitecture weights is', [self.model['w' + str(each+1)].shape for each in range(no_hidden_layers+1)])\n",
    "\n",
    "    # Activation Functions and their derivitives        \n",
    "    def sigmoid(self, s):\n",
    "        return 1/(1 + np.exp(-s))\n",
    "\n",
    "    def sigmoid_derivative(self, s):\n",
    "        return s * (1-s) \n",
    "    \n",
    "    def softmax(self, X):\n",
    "        exps = np.exp(X - np.max(X))\n",
    "        return exps / np.sum(exps, axis=1, keepdims=True)\n",
    "    \n",
    "    # Method for getting loss\n",
    "    def cross_entropy(self, Y, Y_hat):\n",
    "        return -(np.sum(Y*np.log2(Y_hat+1e-12)))/len(Y)\n",
    "    \n",
    "    # Feed Forward method of Neural Network\n",
    "    def feedforward(self, X):\n",
    "        cache = {}\n",
    "        cache['z1'] = X.dot(self.model['w1']) + self.model['b1']\n",
    "        cache['a1'] = self.sigmoid(cache['z1'])\n",
    "        if self.no_hidden_layers>1:\n",
    "            for l in range(1, self.no_hidden_layers):\n",
    "                cache['z'+str(l+1)] = cache['a'+str(l)].dot(self.model['w'+str(l+1)]) + self.model['b'+str(l+1)]\n",
    "                cache['a'+str(l+1)] = self.sigmoid(cache['z'+str(l+1)])\n",
    "        cache['z'+str(self.no_hidden_layers+1)] = cache['a'+str(self.no_hidden_layers)].dot(self.model['w'+str(self.no_hidden_layers+1)]) + self.model['b'+str(self.no_hidden_layers+1)]\n",
    "        cache['a'+str(self.no_hidden_layers+1)] = self.softmax(cache['z'+str(self.no_hidden_layers+1)])\n",
    "        return cache\n",
    "        \n",
    "    # Method for Back Propagating the weights \n",
    "    def backwardpropagate(self, X, Y, cache,  lr):\n",
    "        length = X.shape[0]\n",
    "        deriv = {} \n",
    "        deriv['dz'+str(self.no_hidden_layers+1)] = cache['a'+str(self.no_hidden_layers+1)] - Y\n",
    "        deriv['dw'+str(self.no_hidden_layers+1)] = np.matmul(cache['a'+str(self.no_hidden_layers)].T, deriv['dz'+str(self.no_hidden_layers+1)]) / length\n",
    "        deriv['db'+str(self.no_hidden_layers+1)] = np.sum(deriv['dz'+str(self.no_hidden_layers+1)], axis=0, keepdims=True) / length\n",
    "        if self.no_hidden_layers>1:\n",
    "            for l in range(self.no_hidden_layers, 1, -1):\n",
    "                deriv['da'+str(l)] = np.matmul(deriv['dz'+str(l+1)], self.model['w'+str(l+1)].T)\n",
    "                deriv['dz'+str(l)] = deriv['da'+str(l)] * self.sigmoid_derivative(cache['a'+str(l)])\n",
    "                deriv['dw'+str(l)] = np.matmul(cache['a'+str(l-1)].T, deriv['dz'+str(l)]) / length\n",
    "                deriv['db'+str(l)] = np.sum(deriv['dz'+str(l)], axis=0, keepdims=True) / length\n",
    "        deriv['da'+str(1)] = np.matmul(deriv['dz'+str(2)], self.model['w'+str(2)].T)\n",
    "        deriv['dz'+str(1)] = deriv['da'+str(1)] * self.sigmoid_derivative(cache['a'+str(1)])\n",
    "        deriv['dw'+str(1)] = np.matmul(X.T, deriv['dz'+str(1)]) / length\n",
    "        deriv['db'+str(1)] = np.sum(deriv['dz'+str(1)], axis=0, keepdims=True) / length\n",
    "        return deriv\n",
    "        \n",
    "    # Updating the the weights after SGD\n",
    "    def updates(self, model, deriv, lr):\n",
    "        for l in range(self.no_hidden_layers+1):\n",
    "            self.model['w'+str(l+1)] -= lr * deriv['dw'+str(l+1)]\n",
    "            self.model['b'+str(l+1)] -= lr * deriv['db'+str(l+1)]\n",
    "    \n",
    "    # Stochastic Gradient Descent\n",
    "    def SGD_MiniBatch(self, X, Y, learningRate , batchSize):\n",
    "        for i in range(0, X.shape[0], batchSize):\n",
    "            batchX = X[i : i + batchSize]\n",
    "            batchy = Y[i : i + batchSize]\n",
    "            cache = self.feedforward(batchX)\n",
    "            deriv = self.backwardpropagate(batchX, batchy, cache, learningRate)\n",
    "            self.updates(self.model, deriv, learningRate)\n",
    "    \n",
    "    # Method to start the training of the Neural Network\n",
    "    def train(self, trainX, trainY, epochs=100, learningRate=0.1, batchSize=16 ,plot_err = True ,validationX='none', validationY='none'):\n",
    "        Train_Loss = []\n",
    "        Val_Loss = []\n",
    "        Train_Acc = []\n",
    "        Val_Acc = []\n",
    "        for epoch in range(epochs):\n",
    "            print('\\n----------- Training for epoch',epoch,'-------------')\n",
    "            self.SGD_MiniBatch(trainX, trainY, learningRate, batchSize)\n",
    "            # Predict on training and Get training loss\n",
    "            train_pred = self.feedforward(trainX)\n",
    "            loss_train = self.cross_entropy(trainY, train_pred['a'+str(self.no_hidden_layers+1)])\n",
    "            Train_Loss.append(loss_train)\n",
    "            # predict on Validation and Get validation loss\n",
    "            val_pred = self.feedforward(validationX)\n",
    "            val_loss = self.cross_entropy(validationY, val_pred['a'+str(self.no_hidden_layers+1)])\n",
    "            Val_Loss.append(val_loss)\n",
    "            print(\"Training loss =\", loss_train,\"Valid loss =\",val_loss)\n",
    "            # Train and Validation Accuracy\n",
    "            acc_train = self.meanAccuracy(trainX, trainY)\n",
    "            Train_Acc.append(acc_train)\n",
    "            acc_val = self.meanAccuracy(validationX, validationY)\n",
    "            Val_Acc.append(acc_val)\n",
    "            print(\"Training Accurcy =\", acc_train,\"Valid Accuracy =\", acc_val)\n",
    "        # Plotting the Loss curve and Accuray curve\n",
    "        if plot_err:\n",
    "            self.plot(epochs, Train_Loss, Val_Loss, Train_Acc, Val_Acc)\n",
    "            \n",
    "    # Method to get Predictictions on data\n",
    "    def predict(self, x):\n",
    "        cache = self.feedforward(x)\n",
    "        return cache['a'+str(self.no_hidden_layers+1)]\n",
    "    \n",
    "    # Method to get Accuracy of the data\n",
    "    def meanAccuracy(self, x, y):\n",
    "        A = self.predict(x)\n",
    "        y_hat = np.argmax(A, axis=1)\n",
    "        Y = np.argmax(y, axis=1)\n",
    "        accuracy = (y_hat == Y)\n",
    "        accuracy = np.mean(accuracy)\n",
    "        return accuracy * 100\n",
    "    \n",
    "    # Plotting the Error and Accuracy Curves\n",
    "    def plot(self, epochs, Train_Loss, Val_Loss, Train_Acc, Val_Acc):\n",
    "        plt.figure(figsize=(7,5))\n",
    "        plt.plot(range(epochs), Train_Loss, label='Training Error') \n",
    "        plt.plot(range(epochs), Val_Loss, label='Validation Error') \n",
    "        plt.xlabel(\"Epochs\")\n",
    "        plt.ylabel(\"Error\")\n",
    "        plt.legend()\n",
    "        plt.title(\"Training/Val Loss curve\")\n",
    "            \n",
    "        plt.figure(figsize=(7,5))\n",
    "        plt.plot(range(epochs), Train_Acc, label='Training Accuracy') \n",
    "        plt.plot(range(epochs), Val_Acc, label='Validation Accuracy') \n",
    "        plt.xlabel(\"Epochs\")\n",
    "        plt.ylabel(\"Accuracy\")\n",
    "        plt.legend()\n",
    "        plt.title(\"Accuracy curve\")\n",
    "        plt.show()\n",
    "    \n",
    "    # Saving the weights of the model\n",
    "    def savemodel(self, name):\n",
    "        import pickle\n",
    "        with open(name, 'wb') as handle:\n",
    "            pickle.dump(self.model, handle, protocol=pickle.HIGHEST_PROTOCOL)\n",
    "        \n",
    "    # Loading the weights of the model\n",
    "    def loadmodel(self,name):\n",
    "        import pickle\n",
    "        with open(name, 'rb') as handle:\n",
    "            model = pickle.load(handle)\n",
    "        for l in range(0, self.no_hidden_layers+1):\n",
    "            self.model['w'+str(l+1)] = model['w'+str(l+1)]\n",
    "            self.model['b'+str(l+1)] = model['b'+str(l+1)]"
   ]
  },
  {
   "cell_type": "markdown",
   "metadata": {
    "colab_type": "text",
    "id": "hVJv4BgVfVet"
   },
   "source": [
    "----------------"
   ]
  },
  {
   "cell_type": "markdown",
   "metadata": {
    "colab_type": "text",
    "id": "-oJzbU3SfVev"
   },
   "source": [
    "#### Instantiating CNN class and getting feature maps"
   ]
  },
  {
   "cell_type": "code",
   "execution_count": 26,
   "metadata": {
    "colab": {},
    "colab_type": "code",
    "id": "xTebjSozfVe2"
   },
   "outputs": [],
   "source": [
    "cnn = Conv_Neural_Net()"
   ]
  },
  {
   "cell_type": "code",
   "execution_count": 28,
   "metadata": {
    "colab": {
     "base_uri": "https://localhost:8080/",
     "height": 119
    },
    "colab_type": "code",
    "id": "7KrotbOhfVe-",
    "outputId": "379dcb32-a7f5-4c00-cabb-94ceaf2768ee",
    "scrolled": false
   },
   "outputs": [
    {
     "name": "stdout",
     "output_type": "stream",
     "text": [
      "Convolving samples\n"
     ]
    },
    {
     "name": "stderr",
     "output_type": "stream",
     "text": [
      "100%|██████████| 54000/54000 [1:02:35<00:00, 14.38it/s]\n"
     ]
    },
    {
     "name": "stdout",
     "output_type": "stream",
     "text": [
      "Convolving samples\n"
     ]
    },
    {
     "name": "stderr",
     "output_type": "stream",
     "text": [
      "100%|██████████| 10000/10000 [12:03<00:00, 13.82it/s]\n"
     ]
    },
    {
     "name": "stdout",
     "output_type": "stream",
     "text": [
      "Convolving samples\n"
     ]
    },
    {
     "name": "stderr",
     "output_type": "stream",
     "text": [
      "100%|██████████| 6000/6000 [07:09<00:00, 13.96it/s]\n"
     ]
    }
   ],
   "source": [
    "feature_maps_trainX = cnn.Conv_forward(trainX, filters)\n",
    "feature_maps_testX = cnn.Conv_forward(testX, filters)\n",
    "feature_maps_validX = cnn.Conv_forward(validX, filters)"
   ]
  },
  {
   "cell_type": "markdown",
   "metadata": {
    "colab_type": "text",
    "id": "YALQSm_WfVfK"
   },
   "source": [
    "#### Activation layer with ReLU"
   ]
  },
  {
   "cell_type": "code",
   "execution_count": 30,
   "metadata": {
    "colab": {},
    "colab_type": "code",
    "id": "uOVnHRRGfVfM"
   },
   "outputs": [],
   "source": [
    "active_trainX = cnn.Activation(feature_maps_trainX)\n",
    "active_testX = cnn.Activation(feature_maps_testX)\n",
    "active_validX = cnn.Activation(feature_maps_validX)"
   ]
  },
  {
   "cell_type": "markdown",
   "metadata": {
    "colab_type": "text",
    "id": "BZjdVgPlfVfV"
   },
   "source": [
    "#### Getting Max Pooled features"
   ]
  },
  {
   "cell_type": "code",
   "execution_count": 31,
   "metadata": {
    "colab": {
     "base_uri": "https://localhost:8080/",
     "height": 119
    },
    "colab_type": "code",
    "id": "AkxEz7gXfVfV",
    "outputId": "41f456e4-9c22-4953-8907-7f8ad2ac8850"
   },
   "outputs": [
    {
     "name": "stdout",
     "output_type": "stream",
     "text": [
      "Max pooling samples\n"
     ]
    },
    {
     "name": "stderr",
     "output_type": "stream",
     "text": [
      "100%|██████████| 54000/54000 [21:57<00:00, 40.98it/s]  \n"
     ]
    },
    {
     "name": "stdout",
     "output_type": "stream",
     "text": [
      "Max pooling samples\n"
     ]
    },
    {
     "name": "stderr",
     "output_type": "stream",
     "text": [
      "100%|██████████| 10000/10000 [02:53<00:00, 57.48it/s]\n"
     ]
    },
    {
     "name": "stdout",
     "output_type": "stream",
     "text": [
      "Max pooling samples\n"
     ]
    },
    {
     "name": "stderr",
     "output_type": "stream",
     "text": [
      "100%|██████████| 6000/6000 [01:50<00:00, 54.09it/s]\n"
     ]
    }
   ],
   "source": [
    "pooled_features_trainX = cnn.Pool_forward(active_trainX)\n",
    "pooled_features_testX = cnn.Pool_forward(active_testX)\n",
    "pooled_features_validX = cnn.Pool_forward(active_validX)"
   ]
  },
  {
   "cell_type": "markdown",
   "metadata": {
    "colab_type": "text",
    "id": "CZaeHINkfVfe"
   },
   "source": [
    "#### Converting data into 1D array to pass it to FC layers"
   ]
  },
  {
   "cell_type": "code",
   "execution_count": 32,
   "metadata": {
    "colab": {
     "base_uri": "https://localhost:8080/",
     "height": 34
    },
    "colab_type": "code",
    "id": "NdnwZTBWfVff",
    "outputId": "d36704fd-4405-45f4-f119-ee580f2ec515",
    "scrolled": true
   },
   "outputs": [
    {
     "data": {
      "text/plain": [
       "((54000, 1296), (10000, 1296), (6000, 1296))"
      ]
     },
     "execution_count": 32,
     "metadata": {},
     "output_type": "execute_result"
    }
   ],
   "source": [
    "flattened_trainX = Flatten(pooled_features_trainX)\n",
    "flattened_testX = Flatten(pooled_features_testX)\n",
    "flattened_validX = Flatten(pooled_features_validX)\n",
    "flattened_trainX.shape, flattened_testX.shape, flattened_validX.shape"
   ]
  },
  {
   "cell_type": "markdown",
   "metadata": {
    "colab_type": "text",
    "id": "uQBBv_XgfVfs"
   },
   "source": [
    "#### Fully Connected Network Training for classification"
   ]
  },
  {
   "cell_type": "code",
   "execution_count": 33,
   "metadata": {
    "colab": {
     "base_uri": "https://localhost:8080/",
     "height": 1000
    },
    "colab_type": "code",
    "id": "QwnKoD1tfVfu",
    "outputId": "ec3b913b-32e2-4f35-8325-e2ab4a732de0",
    "scrolled": true
   },
   "outputs": [
    {
     "name": "stdout",
     "output_type": "stream",
     "text": [
      "Shape of Arhitecture weights is [(1296, 512), (512, 128), (128, 10)]\n",
      "\n",
      "----------- Training for epoch 0 -------------\n",
      "Training loss = 0.9645885668692861 Valid loss = 0.9785168138008176\n",
      "Training Accurcy = 78.92037037037038 Valid Accuracy = 78.55\n",
      "\n",
      "----------- Training for epoch 1 -------------\n",
      "Training loss = 0.7018568681140287 Valid loss = 0.7229443070054988\n",
      "Training Accurcy = 85.0537037037037 Valid Accuracy = 84.65\n",
      "\n",
      "----------- Training for epoch 2 -------------\n",
      "Training loss = 0.5819645716928833 Valid loss = 0.6063524863459405\n",
      "Training Accurcy = 87.86666666666667 Valid Accuracy = 87.2\n",
      "\n",
      "----------- Training for epoch 3 -------------\n",
      "Training loss = 0.5087090920063024 Valid loss = 0.5336349914349825\n",
      "Training Accurcy = 89.42777777777778 Valid Accuracy = 88.5\n",
      "\n",
      "----------- Training for epoch 4 -------------\n",
      "Training loss = 0.4575193588725731 Valid loss = 0.48194103112461\n",
      "Training Accurcy = 90.5425925925926 Valid Accuracy = 89.7\n",
      "\n",
      "----------- Training for epoch 5 -------------\n",
      "Training loss = 0.41898997084979656 Valid loss = 0.44275451893301987\n",
      "Training Accurcy = 91.33888888888889 Valid Accuracy = 90.4\n",
      "\n",
      "----------- Training for epoch 6 -------------\n",
      "Training loss = 0.3885744167385702 Valid loss = 0.41193588123157004\n",
      "Training Accurcy = 91.9962962962963 Valid Accuracy = 91.0\n",
      "\n",
      "----------- Training for epoch 7 -------------\n",
      "Training loss = 0.36370465761348925 Valid loss = 0.3869397698738068\n",
      "Training Accurcy = 92.48148148148148 Valid Accuracy = 91.58333333333334\n",
      "\n",
      "----------- Training for epoch 8 -------------\n",
      "Training loss = 0.34280551095213985 Valid loss = 0.3660521633093804\n",
      "Training Accurcy = 92.9 Valid Accuracy = 92.15\n",
      "\n",
      "----------- Training for epoch 9 -------------\n",
      "Training loss = 0.32489448072983124 Valid loss = 0.3482011859045534\n",
      "Training Accurcy = 93.25555555555556 Valid Accuracy = 92.43333333333334\n",
      "\n",
      "----------- Training for epoch 10 -------------\n",
      "Training loss = 0.3093330949531981 Valid loss = 0.3327272542289183\n",
      "Training Accurcy = 93.54444444444444 Valid Accuracy = 92.81666666666666\n",
      "\n",
      "----------- Training for epoch 11 -------------\n",
      "Training loss = 0.2956681775971957 Valid loss = 0.3191853080243767\n",
      "Training Accurcy = 93.82407407407408 Valid Accuracy = 93.08333333333333\n",
      "\n",
      "----------- Training for epoch 12 -------------\n",
      "Training loss = 0.2835549054830881 Valid loss = 0.30724020318442913\n",
      "Training Accurcy = 94.05925925925926 Valid Accuracy = 93.43333333333334\n",
      "\n",
      "----------- Training for epoch 13 -------------\n",
      "Training loss = 0.27272288563247093 Valid loss = 0.2966248678497598\n",
      "Training Accurcy = 94.29814814814816 Valid Accuracy = 93.8\n",
      "\n",
      "----------- Training for epoch 14 -------------\n",
      "Training loss = 0.2629585047987942 Valid loss = 0.2871245884069881\n",
      "Training Accurcy = 94.50740740740741 Valid Accuracy = 93.89999999999999\n",
      "\n",
      "----------- Training for epoch 15 -------------\n",
      "Training loss = 0.25409293912595426 Valid loss = 0.2785644573578998\n",
      "Training Accurcy = 94.71851851851851 Valid Accuracy = 94.11666666666667\n",
      "\n",
      "----------- Training for epoch 16 -------------\n",
      "Training loss = 0.24599197375063606 Valid loss = 0.27079626707633053\n",
      "Training Accurcy = 94.88518518518518 Valid Accuracy = 94.23333333333333\n",
      "\n",
      "----------- Training for epoch 17 -------------\n",
      "Training loss = 0.23854720570176727 Valid loss = 0.2636943110785619\n",
      "Training Accurcy = 95.05740740740741 Valid Accuracy = 94.36666666666666\n",
      "\n",
      "----------- Training for epoch 18 -------------\n",
      "Training loss = 0.23166975911243654 Valid loss = 0.2571585295073789\n",
      "Training Accurcy = 95.23518518518519 Valid Accuracy = 94.5\n",
      "\n",
      "----------- Training for epoch 19 -------------\n",
      "Training loss = 0.22528645868571018 Valid loss = 0.2511129909622402\n",
      "Training Accurcy = 95.35740740740741 Valid Accuracy = 94.61666666666667\n",
      "\n",
      "----------- Training for epoch 20 -------------\n",
      "Training loss = 0.21933687017274425 Valid loss = 0.2454992581869095\n",
      "Training Accurcy = 95.4888888888889 Valid Accuracy = 94.76666666666667\n",
      "\n",
      "----------- Training for epoch 21 -------------\n",
      "Training loss = 0.21377051452824158 Valid loss = 0.24027035868308785\n",
      "Training Accurcy = 95.61481481481482 Valid Accuracy = 94.93333333333334\n",
      "\n",
      "----------- Training for epoch 22 -------------\n",
      "Training loss = 0.2085446453476701 Valid loss = 0.2353872310237754\n",
      "Training Accurcy = 95.73703703703703 Valid Accuracy = 95.11666666666667\n",
      "\n",
      "----------- Training for epoch 23 -------------\n",
      "Training loss = 0.20362278810519313 Valid loss = 0.23081682227802583\n",
      "Training Accurcy = 95.85555555555555 Valid Accuracy = 95.13333333333334\n",
      "\n",
      "----------- Training for epoch 24 -------------\n",
      "Training loss = 0.19897377093692245 Valid loss = 0.22653087012741646\n",
      "Training Accurcy = 95.94074074074074 Valid Accuracy = 95.25\n",
      "\n",
      "----------- Training for epoch 25 -------------\n",
      "Training loss = 0.19457094899676947 Valid loss = 0.22250491879894874\n",
      "Training Accurcy = 96.04074074074074 Valid Accuracy = 95.28333333333333\n",
      "\n",
      "----------- Training for epoch 26 -------------\n",
      "Training loss = 0.19039150127955476 Valid loss = 0.21871745343790236\n",
      "Training Accurcy = 96.13333333333334 Valid Accuracy = 95.28333333333333\n",
      "\n",
      "----------- Training for epoch 27 -------------\n",
      "Training loss = 0.18641578984806506 Valid loss = 0.21514917445017773\n",
      "Training Accurcy = 96.1962962962963 Valid Accuracy = 95.3\n",
      "\n",
      "----------- Training for epoch 28 -------------\n",
      "Training loss = 0.18262680528328992 Valid loss = 0.21178246928370217\n",
      "Training Accurcy = 96.27407407407408 Valid Accuracy = 95.41666666666667\n",
      "\n",
      "----------- Training for epoch 29 -------------\n",
      "Training loss = 0.17900971901151377 Valid loss = 0.2086011130177815\n",
      "Training Accurcy = 96.35740740740741 Valid Accuracy = 95.48333333333333\n",
      "\n",
      "----------- Training for epoch 30 -------------\n",
      "Training loss = 0.17555154039317544 Valid loss = 0.2055901758379624\n",
      "Training Accurcy = 96.42962962962963 Valid Accuracy = 95.6\n",
      "\n",
      "----------- Training for epoch 31 -------------\n",
      "Training loss = 0.17224085132669759 Valid loss = 0.20273607006169195\n",
      "Training Accurcy = 96.4925925925926 Valid Accuracy = 95.75\n",
      "\n",
      "----------- Training for epoch 32 -------------\n",
      "Training loss = 0.16906758061664903 Valid loss = 0.20002664207862553\n",
      "Training Accurcy = 96.55555555555554 Valid Accuracy = 95.8\n",
      "\n",
      "----------- Training for epoch 33 -------------\n",
      "Training loss = 0.16602278957307556 Valid loss = 0.19745120808847555\n",
      "Training Accurcy = 96.61481481481482 Valid Accuracy = 95.85000000000001\n",
      "\n",
      "----------- Training for epoch 34 -------------\n",
      "Training loss = 0.1630984615255985 Valid loss = 0.19500046381981864\n",
      "Training Accurcy = 96.64444444444445 Valid Accuracy = 95.85000000000001\n",
      "\n",
      "----------- Training for epoch 35 -------------\n",
      "Training loss = 0.16028730721222623 Valid loss = 0.19266626968393707\n",
      "Training Accurcy = 96.68518518518519 Valid Accuracy = 95.91666666666666\n",
      "\n",
      "----------- Training for epoch 36 -------------\n",
      "Training loss = 0.1575826043504067 Valid loss = 0.19044138151571965\n",
      "Training Accurcy = 96.73703703703703 Valid Accuracy = 96.01666666666667\n",
      "\n",
      "----------- Training for epoch 37 -------------\n",
      "Training loss = 0.15497808237968722 Valid loss = 0.18831921314245656\n",
      "Training Accurcy = 96.8 Valid Accuracy = 96.05\n",
      "\n",
      "----------- Training for epoch 38 -------------\n",
      "Training loss = 0.15246785085708203 Valid loss = 0.186293679566741\n",
      "Training Accurcy = 96.86296296296297 Valid Accuracy = 96.13333333333334\n",
      "\n",
      "----------- Training for epoch 39 -------------\n",
      "Training loss = 0.1500463613355698 Valid loss = 0.18435911987313927\n",
      "Training Accurcy = 96.91481481481482 Valid Accuracy = 96.18333333333334\n",
      "\n",
      "----------- Training for epoch 40 -------------\n",
      "Training loss = 0.14770839064107416 Valid loss = 0.1825102711024039\n",
      "Training Accurcy = 96.95925925925926 Valid Accuracy = 96.28333333333333\n",
      "\n",
      "----------- Training for epoch 41 -------------\n",
      "Training loss = 0.14544903579134333 Valid loss = 0.1807422619268032\n",
      "Training Accurcy = 97.02037037037037 Valid Accuracy = 96.31666666666666\n",
      "\n",
      "----------- Training for epoch 42 -------------\n",
      "Training loss = 0.1432637138863535 Valid loss = 0.17905060499562334\n",
      "Training Accurcy = 97.0537037037037 Valid Accuracy = 96.35000000000001\n",
      "\n",
      "----------- Training for epoch 43 -------------\n",
      "Training loss = 0.1411481623106116 Valid loss = 0.17743117794798563\n",
      "Training Accurcy = 97.09814814814814 Valid Accuracy = 96.38333333333333\n",
      "\n",
      "----------- Training for epoch 44 -------------\n",
      "Training loss = 0.13909843550151954 Valid loss = 0.17588019105573355\n"
     ]
    },
    {
     "name": "stdout",
     "output_type": "stream",
     "text": [
      "Training Accurcy = 97.13333333333334 Valid Accuracy = 96.36666666666667\n",
      "\n",
      "----------- Training for epoch 45 -------------\n",
      "Training loss = 0.1371108952547254 Valid loss = 0.1743941442449365\n",
      "Training Accurcy = 97.17407407407408 Valid Accuracy = 96.38333333333333\n",
      "\n",
      "----------- Training for epoch 46 -------------\n",
      "Training loss = 0.13518219279403626 Valid loss = 0.17296977881935982\n",
      "Training Accurcy = 97.2 Valid Accuracy = 96.41666666666666\n",
      "\n",
      "----------- Training for epoch 47 -------------\n",
      "Training loss = 0.1333092424789909 Valid loss = 0.1716040304698603\n",
      "Training Accurcy = 97.24259259259259 Valid Accuracy = 96.43333333333334\n",
      "\n",
      "----------- Training for epoch 48 -------------\n",
      "Training loss = 0.13148918833913814 Valid loss = 0.17029399089060387\n",
      "Training Accurcy = 97.28518518518518 Valid Accuracy = 96.45\n",
      "\n",
      "----------- Training for epoch 49 -------------\n",
      "Training loss = 0.1297193655639241 Valid loss = 0.16903688559119054\n",
      "Training Accurcy = 97.32407407407408 Valid Accuracy = 96.45\n"
     ]
    },
    {
     "data": {
      "image/png": "[encoded data removed]",
      "text/plain": [
       "<Figure size 504x360 with 1 Axes>"
      ]
     },
     "metadata": {
      "needs_background": "light"
     },
     "output_type": "display_data"
    },
    {
     "data": {
      "image/png": "[encoded data removed]",
      "text/plain": [
       "<Figure size 504x360 with 1 Axes>"
      ]
     },
     "metadata": {
      "needs_background": "light"
     },
     "output_type": "display_data"
    }
   ],
   "source": [
    "# Architecture with 2 hidden layer having neurons 512, 128\n",
    "fcn = Neural_Network(2, [1296, 512, 128, 10])\n",
    "fcn.train(flattened_trainX, trainY, epochs = 50, learningRate = 0.01, batchSize = 16 ,plot_err = True , validationX = flattened_validX, validationY = validY)\n",
    "fcn.savemodel('bestmodel')    "
   ]
  },
  {
   "cell_type": "markdown",
   "metadata": {
    "colab_type": "text",
    "id": "HZr1na8PfVf6"
   },
   "source": [
    "------"
   ]
  },
  {
   "cell_type": "markdown",
   "metadata": {
    "colab_type": "text",
    "id": "NW9oS0X7fVf7"
   },
   "source": [
    "#### Testing the best training parameters on Test Data"
   ]
  },
  {
   "cell_type": "code",
   "execution_count": 34,
   "metadata": {
    "colab": {
     "base_uri": "https://localhost:8080/",
     "height": 34
    },
    "colab_type": "code",
    "id": "qWAZUVA4fVf8",
    "outputId": "af9876fa-911e-4295-ec3a-9ab909d57a54"
   },
   "outputs": [
    {
     "name": "stdout",
     "output_type": "stream",
     "text": [
      "Accuracy on Test data 96.2\n"
     ]
    }
   ],
   "source": [
    "fcn.loadmodel('bestmodel')\n",
    "print('Accuracy on Test data', fcn.meanAccuracy(flattened_testX, testY))"
   ]
  },
  {
   "cell_type": "code",
   "execution_count": 35,
   "metadata": {
    "colab": {
     "base_uri": "https://localhost:8080/",
     "height": 517
    },
    "colab_type": "code",
    "id": "zTEdJSOqfVgA",
    "outputId": "d4cd35f6-a4b6-4c3b-8f43-0b62ae377e19"
   },
   "outputs": [
    {
     "name": "stdout",
     "output_type": "stream",
     "text": [
      "Accuracy is 96.2\n"
     ]
    },
    {
     "data": {
      "text/plain": [
       "<matplotlib.axes._subplots.AxesSubplot at 0x25eea3ded30>"
      ]
     },
     "execution_count": 35,
     "metadata": {},
     "output_type": "execute_result"
    },
    {
     "data": {
      "image/png": "[encoded data removed]",
      "text/plain": [
       "<Figure size 432x432 with 2 Axes>"
      ]
     },
     "metadata": {
      "needs_background": "light"
     },
     "output_type": "display_data"
    }
   ],
   "source": [
    "def matrix(testX, testY):\n",
    "        # predict the value of trainX\n",
    "        prediction = fcn.predict(testX)\n",
    "        predict = np.argmax(prediction, axis = 1)\n",
    "        groundtruth = np.argmax(testY, axis = 1)\n",
    "        acc = 0\n",
    "        for i in range(len(predict)):\n",
    "            if(predict[i] == groundtruth[i]):\n",
    "                acc = acc+1\n",
    "        acc = (acc/len(predict))*100\n",
    "        print('Accuracy is', acc)\n",
    "        Matrix = np.zeros((10,10), dtype=np.int)\n",
    "        for j in range(len(groundtruth)):\n",
    "            Matrix[groundtruth[j]][predict[j]] = Matrix[groundtruth[j]][predict[j]]+1\n",
    "        return Matrix\n",
    "confusion_matrix = matrix(flattened_testX, testY)\n",
    "import seaborn as sns\n",
    "sns.heatmap(confusion_matrix, annot=True, fmt='d')"
   ]
  },
  {
   "cell_type": "markdown",
   "metadata": {
    "colab_type": "text",
    "id": "pq_nkwcnfVgN"
   },
   "source": [
    "------------------"
   ]
  },
  {
   "cell_type": "markdown",
   "metadata": {
    "colab_type": "text",
    "id": "eZ6bYMWrfVgN"
   },
   "source": [
    "#### Plotting features before and after Pooling"
   ]
  },
  {
   "cell_type": "code",
   "execution_count": 36,
   "metadata": {
    "colab": {},
    "colab_type": "code",
    "id": "MoXpV6JAfVgO"
   },
   "outputs": [],
   "source": [
    "w=10\n",
    "h=10\n",
    "columns = 4\n",
    "rows = 5\n",
    "value = np.random.randint(0, 2400)"
   ]
  },
  {
   "cell_type": "code",
   "execution_count": 37,
   "metadata": {
    "colab": {
     "base_uri": "https://localhost:8080/",
     "height": 699
    },
    "colab_type": "code",
    "id": "nbobpMzvfVgV",
    "outputId": "d91b73c6-1151-47c9-cc06-335a4c02409c"
   },
   "outputs": [
    {
     "data": {
      "image/png": "[encoded data removed]",
      "text/plain": [
       "<Figure size 864x864 with 20 Axes>"
      ]
     },
     "metadata": {
      "needs_background": "light"
     },
     "output_type": "display_data"
    }
   ],
   "source": [
    "# Plotting features before pooling\n",
    "fig=plt.figure(figsize=(12, 12))\n",
    "for i in range(1, columns*rows +1):\n",
    "    img = feature_maps_trainX[i*value,:,:, i]\n",
    "    fig.add_subplot(rows, columns, i)\n",
    "    plt.title('Feature '+str(i))\n",
    "    plt.axis('off')\n",
    "    plt.imshow(img)\n",
    "plt.show()"
   ]
  },
  {
   "cell_type": "code",
   "execution_count": 38,
   "metadata": {
    "colab": {
     "base_uri": "https://localhost:8080/",
     "height": 699
    },
    "colab_type": "code",
    "id": "y5OULB0BfVgZ",
    "outputId": "37f0e16f-86f5-4343-f91e-30553d68a9b7"
   },
   "outputs": [
    {
     "data": {
      "image/png": "[encoded data removed]",
      "text/plain": [
       "<Figure size 864x864 with 20 Axes>"
      ]
     },
     "metadata": {
      "needs_background": "light"
     },
     "output_type": "display_data"
    }
   ],
   "source": [
    "# Plotting features after Activation\n",
    "fig=plt.figure(figsize=(12, 12))\n",
    "for i in range(1, columns*rows +1):\n",
    "    img = active_trainX[i*value ,:,:, i]\n",
    "    fig.add_subplot(rows, columns, i)\n",
    "    plt.title('Activated '+str(i))\n",
    "    plt.axis('off')\n",
    "    plt.imshow(img)\n",
    "plt.show()"
   ]
  },
  {
   "cell_type": "code",
   "execution_count": 39,
   "metadata": {
    "colab": {
     "base_uri": "https://localhost:8080/",
     "height": 699
    },
    "colab_type": "code",
    "id": "wiyDWIJ-fVgd",
    "outputId": "545c36e1-32df-457e-dfd4-aea23f4b5b3c",
    "scrolled": false
   },
   "outputs": [
    {
     "data": {
      "image/png": "[encoded data removed]",
      "text/plain": [
       "<Figure size 864x864 with 20 Axes>"
      ]
     },
     "metadata": {
      "needs_background": "light"
     },
     "output_type": "display_data"
    }
   ],
   "source": [
    "# Plotting features after pooling\n",
    "fig=plt.figure(figsize=(12, 12))\n",
    "for i in range(1, columns*rows +1):\n",
    "    img = pooled_features_trainX[i*value ,:,:, i]\n",
    "    fig.add_subplot(rows, columns, i)\n",
    "    plt.title('Pooled '+str(i))\n",
    "    plt.axis('off')\n",
    "    plt.imshow(img)\n",
    "plt.show()"
   ]
  },
  {
   "cell_type": "code",
   "execution_count": null,
   "metadata": {
    "colab": {},
    "colab_type": "code",
    "id": "BWysG3vJfVgm"
   },
   "outputs": [],
   "source": []
  },
  {
   "cell_type": "code",
   "execution_count": null,
   "metadata": {},
   "outputs": [],
   "source": []
  },
  {
   "cell_type": "code",
   "execution_count": null,
   "metadata": {},
   "outputs": [],
   "source": []
  },
  {
   "cell_type": "code",
   "execution_count": null,
   "metadata": {},
   "outputs": [],
   "source": []
  },
  {
   "cell_type": "code",
   "execution_count": null,
   "metadata": {},
   "outputs": [],
   "source": []
  }
 ],
 "metadata": {
  "accelerator": "GPU",
  "colab": {
   "collapsed_sections": [],
   "name": "MNIST_NN.ipynb",
   "provenance": [],
   "toc_visible": true
  },
  "kernelspec": {
   "display_name": "Python 3",
   "language": "python",
   "name": "python3"
  },
  "language_info": {
   "codemirror_mode": {
    "name": "ipython",
    "version": 3
   },
   "file_extension": ".py",
   "mimetype": "text/x-python",
   "name": "python",
   "nbconvert_exporter": "python",
   "pygments_lexer": "ipython3",
   "version": "3.8.3"
  }
 },
 "nbformat": 4,
 "nbformat_minor": 1
}
